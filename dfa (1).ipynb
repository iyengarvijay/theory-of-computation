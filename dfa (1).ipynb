{
 "cells": [
  {
   "cell_type": "code",
   "execution_count": 1,
   "metadata": {},
   "outputs": [
    {
     "data": {
      "text/plain": [
       "{0: 'q1', 1: 'q1'}"
      ]
     },
     "execution_count": 1,
     "metadata": {},
     "output_type": "execute_result"
    }
   ],
   "source": [
    "#simulating a dfa using a dictionary\n",
    "dfa={'q0':{0:'q1',1:'q1'},'q1':{0:'q1',1:'q1'}}\n",
    "dfa['q0']"
   ]
  },
  {
   "cell_type": "code",
   "execution_count": 2,
   "metadata": {},
   "outputs": [
    {
     "data": {
      "text/plain": [
       "'q1'"
      ]
     },
     "execution_count": 2,
     "metadata": {},
     "output_type": "execute_result"
    }
   ],
   "source": [
    "#simulating a dfa using a dictionary\n",
    "dfa={'q0':{0:'q1',1:'q1'},'q1':{0:'q1',1:'q1'}}\n",
    "dfa['q0'][0]"
   ]
  },
  {
   "cell_type": "code",
   "execution_count": 8,
   "metadata": {},
   "outputs": [
    {
     "name": "stdout",
     "output_type": "stream",
     "text": [
      "['q0', 1]\n"
     ]
    }
   ],
   "source": [
    "#simulating a dfa using a tuple\n",
    "dfa=dict()\n",
    "dfa[('q0',0)]='q1'\n",
    "dfa[('q0',1)]='q1'\n",
    "\n",
    "print(['q0',1])"
   ]
  },
  {
   "cell_type": "code",
   "execution_count": null,
   "metadata": {},
   "outputs": [],
   "source": [
    "#dfa using a function\n",
    "nstates=['q0','q1']\n",
    "moves=[{} for i in nstates]\n",
    "\n",
    "def func(inp,ch,op):\n",
    "   moves[inp][ch]=op\n",
    "func(0,'q1',1)\n",
    "print(moves)\n",
    "    "
   ]
  },
  {
   "cell_type": "code",
   "execution_count": 2,
   "metadata": {},
   "outputs": [
    {
     "name": "stdin",
     "output_type": "stream",
     "text": [
      "Enter a string 01\n"
     ]
    },
    {
     "name": "stdout",
     "output_type": "stream",
     "text": [
      "no\n"
     ]
    }
   ],
   "source": [
    "#checking validity of dfa using initial and final states \n",
    "dfa={\n",
    "    'q0':{0:'q0',1:'q1'},\n",
    "    'q1':{0:'q0',1:'q2'},\n",
    "    'q2':{0:'q0',1:'q3'},\n",
    "    'q3':{0:'q3',1:'q3'}   \n",
    "}\n",
    "initial_state='q0'\n",
    "final_state='q3'\n",
    "cs=initial_state\n",
    "s=list(input(\"Enter a string\"))\n",
    "for i in s:\n",
    "    i=int(i)\n",
    "    cs=dfa[cs][i]\n",
    "if cs is final_state:\n",
    "    print(\"yes\")\n",
    "else:\n",
    "    print(\"no\")\n",
    "    \n",
    "    \n",
    "\n",
    "   \n",
    "\n",
    "\n"
   ]
  },
  {
   "cell_type": "code",
   "execution_count": null,
   "metadata": {},
   "outputs": [],
   "source": [
    "dfa={\n",
    "    'q0':{0:'q0',1:'q1'},\n",
    "    'q1':{0:'q2',1:'q1'},\n",
    "    'q2':{0:'q0',1:'q3'},\n",
    "    'q3':{0:'q3',1:'q3'}   \n",
    "}\n",
    "initial_state='q0'\n",
    "final_state='q3'\n",
    "cs=initial_state\n",
    "s=list(input(\"Enter a string\"))\n",
    "for i in s:\n",
    "    i=int(i)\n",
    "    cs=dfa[cs][i]\n",
    "if cs is final_state:\n",
    "    print(\"yes\")\n",
    "else:\n",
    "    print(\"no\")\n",
    "    \n",
    "    "
   ]
  }
 ],
 "metadata": {
  "kernelspec": {
   "display_name": "Python 3",
   "language": "python",
   "name": "python3"
  },
  "language_info": {
   "codemirror_mode": {
    "name": "ipython",
    "version": 3
   },
   "file_extension": ".py",
   "mimetype": "text/x-python",
   "name": "python",
   "nbconvert_exporter": "python",
   "pygments_lexer": "ipython3",
   "version": "3.7.3"
  }
 },
 "nbformat": 4,
 "nbformat_minor": 4
}
