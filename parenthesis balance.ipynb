{
 "cells": [
  {
   "cell_type": "code",
   "execution_count": 1,
   "metadata": {},
   "outputs": [
    {
     "name": "stdout",
     "output_type": "stream",
     "text": [
      "balanced\n",
      "unbalanced\n"
     ]
    }
   ],
   "source": [
    "list1=[\"(\"]\n",
    "list2=[\")\"]\n",
    "\n",
    "def check(str):\n",
    "    stack=[]\n",
    "    for i in str:\n",
    "        if i in list1:\n",
    "            stack.append(i)\n",
    "        elif i in list2:\n",
    "            p=list2.index(i)\n",
    "            if(( len(stack)>0) and (list1[p])==stack[len(stack)-1]):\n",
    "                stack.pop()\n",
    "            else:\n",
    "                return \"unbalanced\"\n",
    "        if len(stack)==0:\n",
    "            return \"balanced\"\n",
    "\n",
    "str=\"()\"\n",
    "print(check(str))\n",
    "str=\")(\"\n",
    "print(check(str))\n"
   ]
  },
  {
   "cell_type": "code",
   "execution_count": null,
   "metadata": {},
   "outputs": [],
   "source": []
  }
 ],
 "metadata": {
  "kernelspec": {
   "display_name": "Python 3",
   "language": "python",
   "name": "python3"
  },
  "language_info": {
   "codemirror_mode": {
    "name": "ipython",
    "version": 3
   },
   "file_extension": ".py",
   "mimetype": "text/x-python",
   "name": "python",
   "nbconvert_exporter": "python",
   "pygments_lexer": "ipython3",
   "version": "3.6.7"
  }
 },
 "nbformat": 4,
 "nbformat_minor": 2
}
